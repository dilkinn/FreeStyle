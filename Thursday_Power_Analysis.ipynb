{
 "cells": [
  {
   "cell_type": "markdown",
   "metadata": {},
   "source": [
    "# Statistical Power\n",
    "\n",
    "## Introduction\n",
    "\n",
    "Statistical power is a measure of a test's ability to detect an effect/difference when an effect/difference actually exists. \n",
    "\n",
    "We have already discussed how the null hypothesis significance testing (NHST) procedure, when followed rigorously, offers control over the false positive rate: how often we will detect a difference when one does not, in reality, exist.  Power addresses the other side of the question, how often will we detect a difference when one really does exist?"
   ]
  },
  {
   "cell_type": "code",
   "execution_count": 90,
   "metadata": {},
   "outputs": [],
   "source": [
    "import pandas as pd\n",
    "import numpy as np\n",
    "import matplotlib.pyplot as plt\n",
    "import scipy as sp\n",
    "import scipy.stats as stats"
   ]
  },
  {
   "cell_type": "markdown",
   "metadata": {},
   "source": [
    "## Basic\n",
    "\n",
    "### Part 1: Introduction to Power\n",
    "\n",
    "A common application domain for NHST is in [manufacturing control](https://en.wikipedia.org/wiki/Statistical_process_control).  When we have a plant that produces a certain object, we want to develop automatic processes that will alert us when we begin manufacturing objects outside of normal tolerances.\n",
    "\n",
    "Suppose you are a manufacturing engineer in charge of a plant that manufactures bottles of [Coca-Cola](https://en.wikipedia.org/wiki/Coca-Cola).  Each bottle of Coca-Cola should weigh 20.4 ounces (20 ounces of product, 0.4 ounces of bottle).  Of course, due to random fluctuations, bottles will not weigh *exactly* 20.4 ounces, but we do not want to be manufacturing bottles that systematically weigh more or less than this target amount.\n",
    "\n",
    "The management of Coca-Cola have set a standard that bottles should weigh, on average, within 0.1 ounces of this target.  You have collected a sample of bottles manufactured at your plant, and your goal for the day is to test if your plant is manufacturing bottles within the company's tolerances.\n",
    "\n",
    "You have collected a simple random sample of 130 bottles of coke from your plant, and weighed them."
   ]
  },
  {
   "cell_type": "code",
   "execution_count": 91,
   "metadata": {
    "scrolled": true
   },
   "outputs": [],
   "source": [
    "#n = 130, alpha = 0.1"
   ]
  },
  {
   "cell_type": "markdown",
   "metadata": {},
   "source": [
    "1. Load the data in with `numpy.loadtxt('data/coke_weights.txt')`.  Visualize the data with either a scatterplot (with jitter) or a histogram.  Does it look like there is cause for concern?"
   ]
  },
  {
   "cell_type": "code",
   "execution_count": 92,
   "metadata": {},
   "outputs": [],
   "source": [
    "a=np.loadtxt('data/coke_weights.txt')"
   ]
  },
  {
   "cell_type": "code",
   "execution_count": 93,
   "metadata": {},
   "outputs": [
    {
     "data": {
      "text/plain": [
       "(array([ 6.,  0.,  4.,  3.,  1.,  5.,  5.,  6., 12.,  6.,  5.,  4., 12.,\n",
       "         8.,  0.,  1.]),\n",
       " array([19.   , 19.125, 19.25 , 19.375, 19.5  , 19.625, 19.75 , 19.875,\n",
       "        20.   , 20.125, 20.25 , 20.375, 20.5  , 20.625, 20.75 , 20.875,\n",
       "        21.   ]),\n",
       " <a list of 16 Patch objects>)"
      ]
     },
     "execution_count": 93,
     "metadata": {},
     "output_type": "execute_result"
    },
    {
     "data": {
      "image/png": "[encoded data removed]",
      "text/plain": [
       "<Figure size 432x288 with 1 Axes>"
      ]
     },
     "metadata": {
      "needs_background": "light"
     },
     "output_type": "display_data"
    }
   ],
   "source": [
    "#There is cause for concern. THere is bottles WAY outside 20.4 ounces.\n",
    "x = np.linspace(19.0,21.0, num=17)\n",
    "plt.hist(a,x)"
   ]
  },
  {
   "cell_type": "markdown",
   "metadata": {},
   "source": [
    "2. You would like to design a NHST that will notify you when bottles are being manufactured that systematically differ from 20.4 ounces.  State a null hypothesis appropriate for the problem."
   ]
  },
  {
   "cell_type": "code",
   "execution_count": 94,
   "metadata": {},
   "outputs": [],
   "source": [
    "#H0: Bottles weigh within 0.1 ounces of target 20.4 ounces\n",
    "#Bootstrapping\n",
    "sample_data0 = np.zeros(len(a))"
   ]
  },
  {
   "cell_type": "code",
   "execution_count": 95,
   "metadata": {},
   "outputs": [],
   "source": [
    "sample_data1 = np.random.choice(a, size=(len(a),1000), replace=True)\n",
    "sample_data1\n",
    "Sample_Data_mean = np.mean(sample_data1,axis=0)"
   ]
  },
  {
   "cell_type": "code",
   "execution_count": 96,
   "metadata": {},
   "outputs": [
    {
     "data": {
      "text/plain": [
       "0.9576822151041886"
      ]
     },
     "execution_count": 96,
     "metadata": {},
     "output_type": "execute_result"
    }
   ],
   "source": [
    "st = np.std(a)\n",
    "st"
   ]
  },
  {
   "cell_type": "code",
   "execution_count": 97,
   "metadata": {},
   "outputs": [
    {
     "data": {
      "text/plain": [
       "array([20.42566909, 20.35402251, 20.690382  , 20.60113416, 20.46816015,\n",
       "       20.37587454, 20.38481514, 20.38642711, 20.56155625, 20.50978194,\n",
       "       20.52058073, 20.47362742, 20.51278643, 20.64453331, 20.45837583,\n",
       "       20.41481572, 20.6196284 , 20.59759345, 20.43053109, 20.48104738,\n",
       "       20.58498601, 20.5007089 , 20.50988785, 20.63788553, 20.58344573,\n",
       "       20.47871162, 20.53171866, 20.55541491, 20.62126001, 20.52051472,\n",
       "       20.37411816, 20.58091147, 20.51478583, 20.49739223, 20.57436993,\n",
       "       20.57167095, 20.45855525, 20.62021592, 20.42138877, 20.59395667,\n",
       "       20.49775239, 20.54052182, 20.45567732, 20.42052808, 20.50608481,\n",
       "       20.47183544, 20.58113176, 20.55032474, 20.42251366, 20.54045282,\n",
       "       20.56193859, 20.54322403, 20.56554074, 20.5863443 , 20.36894983,\n",
       "       20.520674  , 20.51445733, 20.51752597, 20.56944792, 20.47803586,\n",
       "       20.40718807, 20.3993259 , 20.6466922 , 20.54911709, 20.52355288,\n",
       "       20.5145245 , 20.61614378, 20.67020924, 20.42640054, 20.6832867 ,\n",
       "       20.44010327, 20.35040728, 20.42873339, 20.52513483, 20.41591489,\n",
       "       20.6185999 , 20.43118931, 20.71666491, 20.67403668, 20.36958656,\n",
       "       20.53567404, 20.64854018, 20.47419236, 20.50736022, 20.47180177,\n",
       "       20.51536057, 20.56089684, 20.5432999 , 20.45446   , 20.60529239,\n",
       "       20.49792176, 20.56809403, 20.60250812, 20.40409986, 20.4934179 ,\n",
       "       20.63984377, 20.49391925, 20.5911038 , 20.65757851, 20.38165467,\n",
       "       20.37934569, 20.50174305, 20.58761828, 20.51153215, 20.49677618,\n",
       "       20.54673795, 20.61845396, 20.71892784, 20.64346109, 20.54815765,\n",
       "       20.67288118, 20.53089347, 20.29284404, 20.52672185, 20.42982035,\n",
       "       20.43160688, 20.42875   , 20.54793162, 20.58955154, 20.43384173,\n",
       "       20.50803218, 20.37919811, 20.52293789, 20.44608174, 20.6354378 ,\n",
       "       20.53322557, 20.45474886, 20.57755546, 20.52244814, 20.54867416,\n",
       "       20.51985312, 20.48775507, 20.57237728, 20.38145373, 20.59866743,\n",
       "       20.57983305, 20.59908403, 20.59843951, 20.53102858, 20.41947896,\n",
       "       20.63752823, 20.44282861, 20.54596595, 20.57802717, 20.49159691,\n",
       "       20.62333163, 20.51277822, 20.37361138, 20.73457585, 20.39359248,\n",
       "       20.58510816, 20.42607835, 20.39338269, 20.52501035, 20.51937538,\n",
       "       20.50192752, 20.68366545, 20.40831607, 20.46545083, 20.3639537 ,\n",
       "       20.60422559, 20.42886111, 20.36133999, 20.451513  , 20.56177945,\n",
       "       20.3929857 , 20.54335576, 20.59493754, 20.48233696, 20.57302296,\n",
       "       20.41207692, 20.48329948, 20.43689551, 20.47424315, 20.4800147 ,\n",
       "       20.39753709, 20.38574058, 20.42783817, 20.50164852, 20.42559802,\n",
       "       20.69712386, 20.59326749, 20.50461767, 20.57345218, 20.44585912,\n",
       "       20.49343216, 20.66771841, 20.47939691, 20.46396711, 20.50065785,\n",
       "       20.54076798, 20.44735226, 20.58297459, 20.57874608, 20.66394436,\n",
       "       20.45013395, 20.60608469, 20.53104555, 20.40714909, 20.68944108,\n",
       "       20.68529957, 20.58706757, 20.4747199 , 20.48010264, 20.50925658,\n",
       "       20.48416197, 20.54345946, 20.4127828 , 20.56367093, 20.60746473,\n",
       "       20.42271611, 20.43452098, 20.6475755 , 20.53690209, 20.49249843,\n",
       "       20.5304312 , 20.57463899, 20.48024878, 20.51518429, 20.44485256,\n",
       "       20.51695718, 20.44574767, 20.56396055, 20.54250565, 20.39357351,\n",
       "       20.52565518, 20.58991936, 20.64020106, 20.63802565, 20.64031576,\n",
       "       20.58039089, 20.79806742, 20.65281118, 20.68229102, 20.55804846,\n",
       "       20.66677556, 20.54134801, 20.60322073, 20.5606109 , 20.40368376,\n",
       "       20.34435524, 20.48450892, 20.3915688 , 20.46064756, 20.44606561,\n",
       "       20.56052435, 20.44385444, 20.55018359, 20.55367587, 20.64098857,\n",
       "       20.52575698, 20.5344919 , 20.51685163, 20.48937943, 20.57482027,\n",
       "       20.61531459, 20.47560906, 20.62901071, 20.61791368, 20.40822531,\n",
       "       20.59182898, 20.35489751, 20.61049743, 20.59959371, 20.52871117,\n",
       "       20.55532479, 20.6503274 , 20.67988161, 20.38784023, 20.51771657,\n",
       "       20.53013861, 20.53535463, 20.39697072, 20.5382649 , 20.48319529,\n",
       "       20.57946978, 20.52181623, 20.50942981, 20.56919797, 20.5235464 ,\n",
       "       20.55883016, 20.53402085, 20.5328884 , 20.55380268, 20.57315607,\n",
       "       20.61578735, 20.38158484, 20.58342267, 20.53761594, 20.56743552,\n",
       "       20.53133572, 20.45534914, 20.57204999, 20.59589137, 20.60118005,\n",
       "       20.57661444, 20.57887568, 20.73517708, 20.61563439, 20.5064094 ,\n",
       "       20.54197853, 20.57804293, 20.4841306 , 20.4866267 , 20.50457   ,\n",
       "       20.52875058, 20.52516829, 20.58407366, 20.5567988 , 20.5046141 ,\n",
       "       20.48699168, 20.42123144, 20.59829863, 20.38267715, 20.5289464 ,\n",
       "       20.63156737, 20.54046625, 20.58525608, 20.61075024, 20.52309456,\n",
       "       20.45568751, 20.59148011, 20.43891848, 20.57228625, 20.44456324,\n",
       "       20.50899031, 20.58859786, 20.45721476, 20.47466547, 20.57583711,\n",
       "       20.38756452, 20.41434322, 20.50470571, 20.55605857, 20.51086951,\n",
       "       20.44205419, 20.58393059, 20.60164561, 20.50781412, 20.5021539 ,\n",
       "       20.520707  , 20.47063095, 20.56641328, 20.51123044, 20.49638871,\n",
       "       20.66137495, 20.57474315, 20.47462495, 20.43616602, 20.39574035,\n",
       "       20.42173196, 20.49767423, 20.50453755, 20.65259146, 20.50111643,\n",
       "       20.48451381, 20.64010781, 20.47474298, 20.67005884, 20.62685903,\n",
       "       20.48182306, 20.46394556, 20.60857576, 20.54183673, 20.53393828,\n",
       "       20.43036364, 20.46099361, 20.68221064, 20.62952375, 20.61707893,\n",
       "       20.51177557, 20.57144196, 20.56312716, 20.43921213, 20.37991681,\n",
       "       20.47628655, 20.53089771, 20.44690272, 20.58878852, 20.56186411,\n",
       "       20.47150143, 20.44072195, 20.64554101, 20.60813473, 20.60281117,\n",
       "       20.49054492, 20.35163684, 20.47192403, 20.52020436, 20.5068892 ,\n",
       "       20.59231083, 20.45564377, 20.54639434, 20.54686863, 20.54298235,\n",
       "       20.64573582, 20.51362677, 20.47376708, 20.46426623, 20.59568038,\n",
       "       20.50571442, 20.45760319, 20.37222594, 20.57797023, 20.47771645,\n",
       "       20.4339364 , 20.66395107, 20.4923894 , 20.65418649, 20.62278885,\n",
       "       20.40964517, 20.47479442, 20.45889527, 20.51964739, 20.38143061,\n",
       "       20.41559474, 20.46516739, 20.48812511, 20.66741767, 20.45134047,\n",
       "       20.59178991, 20.53896368, 20.60139002, 20.25906738, 20.48609375,\n",
       "       20.50929889, 20.46864408, 20.55934989, 20.54365034, 20.5399325 ,\n",
       "       20.52913021, 20.44942209, 20.51847326, 20.62754755, 20.48765268,\n",
       "       20.58653883, 20.43646362, 20.62015723, 20.52966605, 20.79003898,\n",
       "       20.56870599, 20.49689314, 20.617949  , 20.56837959, 20.54008113,\n",
       "       20.58695872, 20.49588168, 20.59507246, 20.49109292, 20.4656442 ,\n",
       "       20.62539838, 20.49273056, 20.55135697, 20.4996807 , 20.40905933,\n",
       "       20.37588793, 20.58037229, 20.58955688, 20.64391866, 20.51451827,\n",
       "       20.46147645, 20.28733072, 20.39411876, 20.44494786, 20.51900486,\n",
       "       20.51102929, 20.35376   , 20.57390299, 20.47296504, 20.49706003,\n",
       "       20.60862392, 20.52358083, 20.53875076, 20.44612543, 20.52041623,\n",
       "       20.65200171, 20.7003181 , 20.62051461, 20.5047576 , 20.4949233 ,\n",
       "       20.49796961, 20.53432737, 20.48510106, 20.58905498, 20.54929688,\n",
       "       20.54239998, 20.46270106, 20.45120494, 20.58201415, 20.47198984,\n",
       "       20.46333472, 20.45366093, 20.43953783, 20.57445216, 20.43221246,\n",
       "       20.48694626, 20.40513013, 20.46806329, 20.56893701, 20.61851702,\n",
       "       20.45752218, 20.50506825, 20.47860954, 20.54014756, 20.52567653,\n",
       "       20.59410504, 20.36401803, 20.52449419, 20.59955778, 20.52175078,\n",
       "       20.35206081, 20.61937349, 20.46740366, 20.51502882, 20.41997931,\n",
       "       20.55658541, 20.46065134, 20.5051014 , 20.4792323 , 20.56335867,\n",
       "       20.54129744, 20.47320067, 20.45007023, 20.39371811, 20.44478224,\n",
       "       20.3256755 , 20.56381174, 20.64595346, 20.52546433, 20.66248848,\n",
       "       20.67554191, 20.48339066, 20.54861813, 20.46530165, 20.68309425,\n",
       "       20.55649477, 20.38186472, 20.55208253, 20.51903426, 20.60672416,\n",
       "       20.44986414, 20.44773373, 20.52628958, 20.54735831, 20.55975673,\n",
       "       20.56156651, 20.59668865, 20.55216494, 20.51797963, 20.43968642,\n",
       "       20.47152084, 20.46971068, 20.33177316, 20.41745548, 20.56009494,\n",
       "       20.46993598, 20.59072085, 20.51947897, 20.42517812, 20.57885857,\n",
       "       20.63058757, 20.55554825, 20.44512184, 20.44820292, 20.54919063,\n",
       "       20.56327304, 20.39991769, 20.4997851 , 20.66689879, 20.54760561,\n",
       "       20.47412016, 20.62104061, 20.618285  , 20.64706338, 20.46207626,\n",
       "       20.58448456, 20.39142983, 20.5078816 , 20.55331099, 20.58816085,\n",
       "       20.49082292, 20.49804367, 20.557586  , 20.52292872, 20.58676099,\n",
       "       20.58330074, 20.47182096, 20.65921432, 20.59705961, 20.45628453,\n",
       "       20.4396792 , 20.66844162, 20.53464844, 20.49546185, 20.60315284,\n",
       "       20.49604767, 20.59663164, 20.52706891, 20.43633333, 20.58547392,\n",
       "       20.68616714, 20.46038716, 20.45068248, 20.55334209, 20.59231809,\n",
       "       20.65237039, 20.6295373 , 20.50297864, 20.45097528, 20.49375931,\n",
       "       20.52150259, 20.41743387, 20.60694019, 20.6725045 , 20.45212897,\n",
       "       20.49094838, 20.50678691, 20.47179876, 20.68470914, 20.48670178,\n",
       "       20.67070352, 20.55769656, 20.39571888, 20.5568641 , 20.6658669 ,\n",
       "       20.39750376, 20.62148207, 20.45581515, 20.60955102, 20.55147617,\n",
       "       20.57873533, 20.36275041, 20.63128358, 20.39626362, 20.37668876,\n",
       "       20.42153066, 20.50913441, 20.42412018, 20.51325822, 20.51815192,\n",
       "       20.66684764, 20.43666851, 20.43131505, 20.40833939, 20.47938163,\n",
       "       20.49009877, 20.55454196, 20.47129358, 20.61461391, 20.51263167,\n",
       "       20.44182652, 20.56877434, 20.4341751 , 20.65739243, 20.63010504,\n",
       "       20.37567219, 20.57872396, 20.50114088, 20.48357419, 20.60987129,\n",
       "       20.58172381, 20.4371625 , 20.47731442, 20.6395852 , 20.62084434,\n",
       "       20.42577894, 20.53237631, 20.33120721, 20.59452606, 20.5624623 ,\n",
       "       20.47404791, 20.51286147, 20.657355  , 20.53357673, 20.49830623,\n",
       "       20.45711999, 20.60699823, 20.44290674, 20.43377018, 20.56923296,\n",
       "       20.48736944, 20.52077323, 20.4944085 , 20.59940282, 20.55909545,\n",
       "       20.5479075 , 20.51252225, 20.63686136, 20.60225025, 20.55403608,\n",
       "       20.47341706, 20.45459885, 20.4229837 , 20.4835017 , 20.37336115,\n",
       "       20.56275347, 20.47445461, 20.47624886, 20.55438341, 20.60173728,\n",
       "       20.55870368, 20.61980919, 20.47792252, 20.4557563 , 20.4420326 ,\n",
       "       20.53960989, 20.66729722, 20.34656673, 20.42207104, 20.52794611,\n",
       "       20.44957402, 20.49629295, 20.60201605, 20.51280518, 20.59145834,\n",
       "       20.57723177, 20.55759291, 20.38769945, 20.58105094, 20.3896948 ,\n",
       "       20.59228222, 20.4915351 , 20.55062192, 20.50886414, 20.40181442,\n",
       "       20.50553983, 20.56623204, 20.45081401, 20.55334061, 20.46851518,\n",
       "       20.42895629, 20.62832368, 20.68549918, 20.46780283, 20.47603521,\n",
       "       20.32192967, 20.57177574, 20.39407291, 20.59830245, 20.59548411,\n",
       "       20.41711427, 20.56904068, 20.54900498, 20.48500785, 20.49904639,\n",
       "       20.45587046, 20.54065313, 20.47814722, 20.42361021, 20.64666245,\n",
       "       20.66590301, 20.40128016, 20.54295311, 20.6121594 , 20.49536972,\n",
       "       20.51209433, 20.40481422, 20.47892194, 20.53284623, 20.45695125,\n",
       "       20.63448211, 20.46717656, 20.66476555, 20.56227628, 20.42647686,\n",
       "       20.47684555, 20.57741895, 20.5701818 , 20.6374625 , 20.44837101,\n",
       "       20.64710902, 20.4429087 , 20.52916948, 20.43703381, 20.34565544,\n",
       "       20.51527203, 20.49317444, 20.430455  , 20.55302815, 20.54065714,\n",
       "       20.51341995, 20.43161606, 20.51693314, 20.59197586, 20.51292048,\n",
       "       20.59802522, 20.58224132, 20.5207553 , 20.495483  , 20.53667662,\n",
       "       20.51373879, 20.60488397, 20.6321141 , 20.65426721, 20.34306937,\n",
       "       20.60637814, 20.5882963 , 20.44485887, 20.48543712, 20.55744566,\n",
       "       20.57113341, 20.46244532, 20.56456112, 20.60859935, 20.48823232,\n",
       "       20.59584001, 20.49613786, 20.67018544, 20.59609374, 20.41823752,\n",
       "       20.40821703, 20.62229865, 20.41190559, 20.57068855, 20.61257637,\n",
       "       20.5707071 , 20.69586192, 20.62586513, 20.34594455, 20.54906834,\n",
       "       20.60229352, 20.56149582, 20.61884037, 20.55946277, 20.59315958,\n",
       "       20.50089329, 20.52800398, 20.469679  , 20.49661192, 20.51299437,\n",
       "       20.67978979, 20.3549392 , 20.57573955, 20.57482487, 20.4119379 ,\n",
       "       20.41489182, 20.50991177, 20.57168374, 20.46096114, 20.44227829,\n",
       "       20.55299371, 20.44432696, 20.53753472, 20.37916921, 20.53371806,\n",
       "       20.59964719, 20.49252098, 20.59422398, 20.44498726, 20.4185045 ,\n",
       "       20.4236143 , 20.5593171 , 20.50879649, 20.58833213, 20.40334212,\n",
       "       20.42580218, 20.36831508, 20.46885837, 20.48428386, 20.49639327,\n",
       "       20.50540346, 20.550864  , 20.69516531, 20.68868683, 20.48795361,\n",
       "       20.53190504, 20.57527905, 20.44602721, 20.54046432, 20.64221777,\n",
       "       20.48503647, 20.36934121, 20.68514009, 20.58555628, 20.5933301 ,\n",
       "       20.42343765, 20.44127784, 20.62944658, 20.63987306, 20.46799239,\n",
       "       20.48343864, 20.52920855, 20.67636536, 20.5422823 , 20.50222025,\n",
       "       20.37592008, 20.52064064, 20.54865488, 20.37318221, 20.41922263,\n",
       "       20.48448127, 20.45092924, 20.52613816, 20.50003991, 20.52624096,\n",
       "       20.52962921, 20.58504895, 20.56083787, 20.54206215, 20.53453316,\n",
       "       20.55503921, 20.63477497, 20.45918762, 20.41294282, 20.47680552,\n",
       "       20.49341569, 20.46319203, 20.54050194, 20.50762286, 20.56468473,\n",
       "       20.42138616, 20.52976088, 20.49795424, 20.52355178, 20.66086917,\n",
       "       20.60333589, 20.56004374, 20.50032499, 20.51424654, 20.40741195,\n",
       "       20.5232171 , 20.52677203, 20.55257148, 20.42780503, 20.57668111,\n",
       "       20.6404011 , 20.50229097, 20.43275543, 20.60175796, 20.49253276,\n",
       "       20.47726811, 20.47796877, 20.43037178, 20.53571793, 20.55541593,\n",
       "       20.51181145, 20.62659871, 20.68808834, 20.55736831, 20.49491847,\n",
       "       20.6741208 , 20.56538095, 20.38641208, 20.66925151, 20.57953098,\n",
       "       20.60227668, 20.50727777, 20.47081945, 20.39844891, 20.44852223,\n",
       "       20.47545849, 20.47773977, 20.51858991, 20.50209276, 20.55932444,\n",
       "       20.52379584, 20.5651529 , 20.47761456, 20.53763843, 20.53664417,\n",
       "       20.48951917, 20.47229794, 20.59307051, 20.64986293, 20.40988779,\n",
       "       20.44634165, 20.56743899, 20.56821606, 20.44398015, 20.54675258,\n",
       "       20.47759561, 20.48740485, 20.44868756, 20.49446359, 20.59152955,\n",
       "       20.47714667, 20.50844003, 20.57093303, 20.39767239, 20.54292379,\n",
       "       20.5638743 , 20.47781562, 20.66254331, 20.3922052 , 20.61300627,\n",
       "       20.51805963, 20.42321109, 20.44049351, 20.36685578, 20.63797105,\n",
       "       20.34294601, 20.45752515, 20.4256755 , 20.56374346, 20.48267147,\n",
       "       20.4224444 , 20.45053418, 20.50343412, 20.61687711, 20.65884205])"
      ]
     },
     "execution_count": 97,
     "metadata": {},
     "output_type": "execute_result"
    }
   ],
   "source": [
    "Sample_Data_mean"
   ]
  },
  {
   "cell_type": "code",
   "execution_count": 98,
   "metadata": {
    "scrolled": true
   },
   "outputs": [
    {
     "data": {
      "image/png": "[encoded data removed]",
      "text/plain": [
       "<Figure size 1152x288 with 1 Axes>"
      ]
     },
     "metadata": {
      "needs_background": "light"
     },
     "output_type": "display_data"
    }
   ],
   "source": [
    "fig, ax = plt.subplots(1, figsize=(16, 4))\n",
    "_ = ax.hist(Sample_Data_mean, bins=25, density=True, color=\"blue\",\n",
    "            label=\"Sample Data\")"
   ]
  },
  {
   "cell_type": "markdown",
   "metadata": {},
   "source": [
    "3. State an alternate hypothesis.  Is a one tailed or two tailed test appropriate for your goals? Hint: pretend you haven't looked at the data yet."
   ]
  },
  {
   "cell_type": "code",
   "execution_count": 99,
   "metadata": {},
   "outputs": [],
   "source": [
    "#H1: Bottles 'will not' weigh within on average 0.1 ounces of target 20.4 ounces\n",
    "#Two-tailed test is most appropriate for your goals"
   ]
  },
  {
   "cell_type": "markdown",
   "metadata": {},
   "source": [
    "4. What is the distribution of your sample average under the null hypothesis assumption?  What result tells you this?"
   ]
  },
  {
   "cell_type": "code",
   "execution_count": 100,
   "metadata": {},
   "outputs": [],
   "source": [
    "#We want the distribution of our sample average under null hypothesis assumption to fall under\n",
    "#\"Normal Distribution\" due sample size is larger than 30. The results of sample mean "
   ]
  },
  {
   "cell_type": "markdown",
   "metadata": {},
   "source": [
    "5. Use `scipy` to make a random variable of the sampling distribution of the mean under the null hypothesis. Plot the PDF over `+/- 4 standard error`. "
   ]
  },
  {
   "cell_type": "code",
   "execution_count": 101,
   "metadata": {},
   "outputs": [
    {
     "data": {
      "text/plain": [
       "0.0839942866704848"
      ]
     },
     "execution_count": 101,
     "metadata": {},
     "output_type": "execute_result"
    }
   ],
   "source": [
    "std_err = st/((130)**(1/2))\n",
    "std_err"
   ]
  },
  {
   "cell_type": "code",
   "execution_count": 114,
   "metadata": {},
   "outputs": [],
   "source": [
    "sample_mean_a = np.mean(a)"
   ]
  },
  {
   "cell_type": "code",
   "execution_count": 115,
   "metadata": {},
   "outputs": [],
   "source": [
    "null_hypothesis_dist = stats.norm(20.4,std_err)"
   ]
  },
  {
   "cell_type": "code",
   "execution_count": 116,
   "metadata": {},
   "outputs": [
    {
     "data": {
      "text/plain": [
       "[<matplotlib.lines.Line2D at 0x7f0833d08ad0>]"
      ]
     },
     "execution_count": 116,
     "metadata": {},
     "output_type": "execute_result"
    },
    {
     "data": {
      "image/png": "[encoded data removed]",
      "text/plain": [
       "<Figure size 1152x288 with 1 Axes>"
      ]
     },
     "metadata": {
      "needs_background": "light"
     },
     "output_type": "display_data"
    }
   ],
   "source": [
    "x_ = np.linspace(20.4-4*std_err,20.4+(4*std_err), num=250)\n",
    "fig, ax = plt.subplots(figsize=(16, 4))\n",
    "ax.plot(x_, null_hypothesis_dist.pdf(x_),color=\"red\",\n",
    "            label=\"DIST of Null Hypothesis\")"
   ]
  },
  {
   "cell_type": "markdown",
   "metadata": {},
   "source": [
    "6. According to company standards, we would like our test to detect when the mean of our manufactured bottles is 0.1 ounce more than the desired mean of 20.4 (the *more than* is a simplifying assumption, which allows us to focus on a one tailed test).  Plot the sampling distribution of the data under the *alternate* hypothesis that the mean is `20.4 + 0.1`."
   ]
  },
  {
   "cell_type": "code",
   "execution_count": 117,
   "metadata": {},
   "outputs": [],
   "source": [
    "alternate_hypothesis_dist = stats.norm(20.4 + 0.1,std_err)"
   ]
  },
  {
   "cell_type": "code",
   "execution_count": 118,
   "metadata": {},
   "outputs": [
    {
     "data": {
      "text/plain": [
       "[<matplotlib.lines.Line2D at 0x7f08337a8a10>]"
      ]
     },
     "execution_count": 118,
     "metadata": {},
     "output_type": "execute_result"
    },
    {
     "data": {
      "image/png": "[encoded data removed]",
      "text/plain": [
       "<Figure size 1152x288 with 1 Axes>"
      ]
     },
     "metadata": {
      "needs_background": "light"
     },
     "output_type": "display_data"
    }
   ],
   "source": [
    "x_ = np.linspace(20.4-4*std_err,20.4+(4*std_err), num=250)\n",
    "fig, ax = plt.subplots(figsize=(16, 4))\n",
    "ax.plot(x_, alternate_hypothesis_dist.pdf(x_),color=\"red\",\n",
    "            label=\"DIST of Null Hypothesis\")\n",
    "ax.plot(x_, null_hypothesis_dist.pdf(x_),color=\"blue\",\n",
    "            label=\"DIST of Null Hypothesis\")"
   ]
  },
  {
   "cell_type": "markdown",
   "metadata": {},
   "source": [
    "7. Plot a vertical line to indicate the bounds for rejecting the null hypothesis assuming a significance level of 0.05. Based on the bounds for rejecting the null, what conclusion\n",
    "can we draw based on the sample of 130 bottles of Coca-Cola?\n",
    "\n",
    "![Two Sided Coke Bottle Rejection Reigon](images/h0-ha-coke-bottle-two-sided.png)"
   ]
  },
  {
   "cell_type": "code",
   "execution_count": 119,
   "metadata": {},
   "outputs": [
    {
     "data": {
      "text/plain": [
       "<matplotlib.lines.Line2D at 0x7f0834139610>"
      ]
     },
     "execution_count": 119,
     "metadata": {},
     "output_type": "execute_result"
    },
    {
     "data": {
      "image/png": "[encoded data removed]",
      "text/plain": [
       "<Figure size 1152x288 with 1 Axes>"
      ]
     },
     "metadata": {
      "needs_background": "light"
     },
     "output_type": "display_data"
    }
   ],
   "source": [
    "x_ = np.linspace(20.4-4*std_err,20.4+(4*std_err), num=250)\n",
    "fig, ax = plt.subplots(figsize=(16, 4))\n",
    "ax.plot(x_, alternate_hypothesis_dist.pdf(x_),color=\"red\",\n",
    "            label=\"DIST of Null Hypothesis\")\n",
    "ax.plot(x_, null_hypothesis_dist.pdf(x_),color=\"blue\",\n",
    "            label=\"DIST of Null Hypothesis\")\n",
    "ax.axvline(20.4-2*std_err)\n",
    "ax.axvline(20.4+2*std_err)"
   ]
  },
  {
   "cell_type": "markdown",
   "metadata": {},
   "source": [
    "8. Build a 95% confidence interval based on the sample data. Does your interval suggest that the weight of a bottle of coke is different than 20.4 ounces? Explain what a false negative is in the context of this problem."
   ]
  },
  {
   "cell_type": "code",
   "execution_count": 120,
   "metadata": {},
   "outputs": [
    {
     "data": {
      "text/plain": [
       "20.687850014363576"
      ]
     },
     "execution_count": 120,
     "metadata": {},
     "output_type": "execute_result"
    }
   ],
   "source": [
    "sample_mean_a+2*std_err"
   ]
  },
  {
   "cell_type": "code",
   "execution_count": 121,
   "metadata": {},
   "outputs": [
    {
     "data": {
      "text/plain": [
       "20.351872867681635"
      ]
     },
     "execution_count": 121,
     "metadata": {},
     "output_type": "execute_result"
    }
   ],
   "source": [
    "sample_mean_a-2*std_err"
   ]
  },
  {
   "cell_type": "code",
   "execution_count": 122,
   "metadata": {},
   "outputs": [],
   "source": [
    "#sample_mean_a-2*std_err represents the false negative where bottle weight falls in Null hypothesis"
   ]
  },
  {
   "cell_type": "markdown",
   "metadata": {},
   "source": [
    "9. Compute the power of the test to detect that your process is manufacturing bottles which are, on average, overweight by 0.1 ounces.  Shade the area under the alternate hypothesis distribution that indicates the power of the test."
   ]
  },
  {
   "cell_type": "code",
   "execution_count": 128,
   "metadata": {},
   "outputs": [],
   "source": [
    "critical_value1 = alternate_hypothesis_dist.ppf(0.95)\n",
    "critical_value2 = null_hypothesis_dist.ppf(0.95)\n",
    "power = 1 - alternate_hypothesis_dist.cdf(critical_value1)\n",
    "power_n = 1 - null_hypothesis_dist.cdf(critical_value2)"
   ]
  },
  {
   "cell_type": "code",
   "execution_count": 129,
   "metadata": {},
   "outputs": [
    {
     "name": "stdout",
     "output_type": "stream",
     "text": [
      "Power of Test (Alternate Hypothesis): 0.05\n"
     ]
    }
   ],
   "source": [
    "print(\"Power of Test (Alternate Hypothesis): {:2.2f}\".format(power))"
   ]
  },
  {
   "cell_type": "code",
   "execution_count": 130,
   "metadata": {},
   "outputs": [
    {
     "name": "stdout",
     "output_type": "stream",
     "text": [
      "Power of Test (Null Hypothesis): 0.05\n"
     ]
    }
   ],
   "source": [
    "print(\"Power of Test (Null Hypothesis): {:2.2f}\".format(power_n))"
   ]
  },
  {
   "cell_type": "code",
   "execution_count": 138,
   "metadata": {},
   "outputs": [
    {
     "data": {
      "text/plain": [
       "(250,)"
      ]
     },
     "execution_count": 138,
     "metadata": {},
     "output_type": "execute_result"
    }
   ],
   "source": [
    "print(x_.shape)"
   ]
  },
  {
   "cell_type": "code",
   "execution_count": 140,
   "metadata": {},
   "outputs": [
    {
     "data": {
      "text/plain": [
       "(250,)"
      ]
     },
     "execution_count": 140,
     "metadata": {},
     "output_type": "execute_result"
    }
   ],
   "source": [
    "alternate_hypothesis_dist.pdf(x_).shape"
   ]
  },
  {
   "cell_type": "code",
   "execution_count": 141,
   "metadata": {},
   "outputs": [
    {
     "data": {
      "text/plain": [
       "(250,)"
      ]
     },
     "execution_count": 141,
     "metadata": {},
     "output_type": "execute_result"
    }
   ],
   "source": [
    "null_hypothesis_dist.pdf(x_).shape"
   ]
  },
  {
   "cell_type": "code",
   "execution_count": 145,
   "metadata": {},
   "outputs": [
    {
     "data": {
      "text/plain": [
       "<matplotlib.lines.Line2D at 0x7f0833f8eb10>"
      ]
     },
     "execution_count": 145,
     "metadata": {},
     "output_type": "execute_result"
    },
    {
     "data": {
      "image/png": "[encoded data removed]",
      "text/plain": [
       "<Figure size 1152x288 with 1 Axes>"
      ]
     },
     "metadata": {
      "needs_background": "light"
     },
     "output_type": "display_data"
    }
   ],
   "source": [
    "#x_ = np.linspace(20.4-4*std_err,20.4+(4*std_err), num=250)\n",
    "fig, ax = plt.subplots(figsize=(16, 4))\n",
    "ax.plot(x_, alternate_hypothesis_dist.pdf(x_),color=\"red\",\n",
    "            label=\"DIST of Null Hypothesis\")\n",
    "ax.plot(x_, null_hypothesis_dist.pdf(x_),color=\"blue\",\n",
    "            label=\"DIST of Null Hypothesis\")\n",
    "ax.fill_between(x_, null_hypothesis_dist.pdf(x_), \n",
    "                where=(x_ <=20.4-2*std_err), color=\"lime\")\n",
    "ax.fill_between(x_, null_hypothesis_dist.pdf(x_), \n",
    "                where=(x_ >=20.4+2*std_err), color=\"lime\")\n",
    "ax.axvline(20.4-2*std_err)\n",
    "ax.axvline(20.4+2*std_err)"
   ]
  },
  {
   "cell_type": "markdown",
   "metadata": {},
   "source": [
    "## Advanced\n",
    "\n",
    "### Part 2: Factors that Influence Power of a Test\n",
    "\n",
    "Statistical power is affected by a number of factors, including the **sample\n",
    "size**, the **effect size you wish to detect**, the amount of **variance** in\n",
    "the population, and the desired **significance level** of the test. Here we are\n",
    "going to explore the effect of these factors on power.\n",
    "\n",
    "<br>"
   ]
  },
  {
   "cell_type": "markdown",
   "metadata": {},
   "source": [
    "1. Write a function `compute_power` that includes all the steps in `Part 1`.  Test it by using it to re-compute the power from `Part 1`.\n",
    "\n",
    "```\n",
    "def compute_power(n, sigma, alpha, mu0, mua):\n",
    "    \"\"\"Compute the statistical power of a standard z-test.\n",
    "\n",
    "    Parameters\n",
    "    ----------\n",
    "\n",
    "    n: int\n",
    "      Sample size.  Must be a positive number.\n",
    "\n",
    "    sigma: float\n",
    "      Population standard deviation.  Must be a positive number.\n",
    "\n",
    "    alpha: float\n",
    "      Significance level.  Must be between zero and one.\n",
    "\n",
    "    mu0: float\n",
    "      Assumed population mean under the null hypothesis.\n",
    "\n",
    "    mua: float\n",
    "      Assumed population mean under the alternate hypothesis.\n",
    "    \"\"\"\n",
    "```"
   ]
  },
  {
   "cell_type": "code",
   "execution_count": 148,
   "metadata": {},
   "outputs": [],
   "source": [
    "def compute_power(n, sigma, alpha, mu0, mua):\n",
    "    standard_error = sigma / n**0.5\n",
    "    h0 = stats.norm(mu0, standard_error)\n",
    "    ha = stats.norm(mua, standard_error)\n",
    "    critical_value = h0.ppf(1 - alpha)\n",
    "    power = 1 - ha.cdf(critical_value)\n",
    "    return power"
   ]
  },
  {
   "cell_type": "code",
   "execution_count": 149,
   "metadata": {},
   "outputs": [
    {
     "name": "stdout",
     "output_type": "stream",
     "text": [
      "1.0\n"
     ]
    }
   ],
   "source": [
    "print(compute_power(130,std_err,0.1,20.4,20.5))"
   ]
  },
  {
   "cell_type": "markdown",
   "metadata": {},
   "source": [
    "2. Let's call the difference between `mua` and `mu0` the **hypothesized effect size**, it is the size of an effect we would like our test to be able to detect.  Make a plot of the hypothesized effect size vs. the power of the test."
   ]
  },
  {
   "cell_type": "code",
   "execution_count": null,
   "metadata": {},
   "outputs": [],
   "source": [
    "hypothesized_effect_size = 20.5-204"
   ]
  },
  {
   "cell_type": "code",
   "execution_count": null,
   "metadata": {},
   "outputs": [],
   "source": []
  },
  {
   "cell_type": "markdown",
   "metadata": {},
   "source": [
    "3. Without writing any code, explain why the standard error (i.e. standard deviation of the mean) decreases as the sample size increases. Furthermore, extrapolate and explain the relationship between **sample size** and **power**. Verify your result by computing power on a larger dataset with 1000 data points (`numpy.loadtxt('data/coke_weights_1000.txt')`). Is the power higher or lower with a larger sample size given the effect size and significance level held constant?\n",
    "\n",
    "![Coke Bottles](images/h0-ha-coke-bottles-one-sided.png)"
   ]
  },
  {
   "cell_type": "markdown",
   "metadata": {},
   "source": [
    "4. How does the power change if the significance level is increased from `0.05` to `0.1`. Explain your observation in terms of the increase/decrease probability of false positive/false negative. Plot **significance level (x)** (over a range of `0.01 - 0.3`) against **power (y)**."
   ]
  },
  {
   "cell_type": "markdown",
   "metadata": {},
   "source": [
    "## Extra Credit\n",
    "\n",
    "### Part 3: Power Calculations for A/B testing  \n",
    "\n",
    "One common problem in A/B testing is to decide when to stop the experiment. Power calculations are very useful in determining the required minimum sample size necessary to reach a certain power (usually 80%), given an effect size and a significance level.\n",
    "\n",
    "A powerful test would ensure we are able to detect differences in conversion the majority of the time given the difference in fact exists. There are two approaches to determining an effect size to use in power calculations:\n",
    "\n",
    "  - As we did above, our effect size may be *hypothesized*.  In this case, it is the magnitude of an effect we want our test to be able to detect.\n",
    "  - We may have *prior knowledge* about a reasonable effect size, either from previous research, or...\n",
    "\n",
    "...to gain insights about the effect size, a small-scale pilot experiment is often launched. The sample mean from this pilot study can be taken as a rough estimate of an effect size.  Using this, a minimum sample size to achieve a given power can be computed. Subsequently, a full-scale experiment is run until the minimum sample size is reached.\n",
    "\n",
    "Continuing from this morning's [Etsy case\n",
    "study](https://github.com/GalvanizeDataScience/hypothesis-testing/blob/master/assignment.md), get the\n",
    "conversion data for the new and old landing pages with the code below.\n",
    "\n",
    "```python\n",
    "data = pd.read_csv('data/experiment.csv')\n",
    "old_data = data[data['landing_page'] == 'old_page']['converted']\n",
    "new_data = data[data['landing_page'] == 'new_page']['converted']\n",
    "```\n",
    "\n",
    "Historically, the old page has a conversion of 10% and we wish to test if the\n",
    "new page provides more than a 0.1% increase (1% lift) in conversion (anything less than that increase would mean the cost of implementation is not worth the investment). Recall the null and\n",
    "alternative hypotheses below:\n",
    "\n",
    "```\n",
    "H0: \\pi_new - \\pi_old <= 0.001\n",
    "Ha: \\pi_new - \\pi_old > 0.001\n",
    "```\n",
    "\n",
    "Of course we need a point hypothesis for H0 to get any real work done, so in the usual spirit of making the null maximally hard to reject, we formulate the following working null hypothesis:\n",
    "\n",
    "```\n",
    "H0: \\pi_new - \\pi_old = 0.001\n",
    "Ha: \\pi_new - \\pi_old > 0.001\n",
    "```"
   ]
  },
  {
   "cell_type": "markdown",
   "metadata": {},
   "source": [
    "### Part 3.1: Computing Power for Pilot Sample\n",
    "\n",
    "In this part, we are going to compute statistical power for the pilot experiment given the null hypothesis.\n",
    "\n",
    "1. By the CLT, we can approximate the sampling distribution of proportions (`p_new, p_old`) to be normal (since proportions are effectively a mean of 0's and 1's).  Under the assumption that the new and old landing page click-throughs are independent (a reasonable assumption), it follows that the sampling distribution of difference of proportions `p_new - p_old` [is also normal](https://en.wikipedia.org/wiki/Sum_of_normally_distributed_random_variables).  Compute the distribution of `p_new - p_old` under the null hypothesis (you will need to use the standard error of the actual data as the standard deviation of the sampling distributioan, in practice obtaining this estimate is one of the reasons we would run a pilot study)\n",
    "\n",
    "**Reminder: The pooled standard error estimate of a difference of proportions, assuming the null hypothesis, is:**\n",
    "\n",
    "   ![image](images/sd_prop.gif)\n",
    "\n",
    "   - `p` is the **pooled frequency**, a weighted average of the frequencies for the treatement and control groups, `p1` and `p2`.  Remember, our calculations always assume the **null hypothesis is true**, so we work under the assumption that `p1 == p2`.\n",
    "   - `n1` is the number of subjects sampled from the control group.\n",
    "   - `n2` is the number of subjects sampled from the treatment group."
   ]
  },
  {
   "cell_type": "markdown",
   "metadata": {},
   "source": [
    "2. Define a normal distribution random variable to represent your sampling distribution under the null hypothesis. Plot the PDF of the random variable as you have done previously."
   ]
  },
  {
   "cell_type": "markdown",
   "metadata": {},
   "source": [
    "3. Add a vertical line on the plot to indicate the bound for rejecting the null hypothesis given a significance level of 5% (not shown in plot below)."
   ]
  },
  {
   "cell_type": "markdown",
   "metadata": {},
   "source": [
    "4. Let's pretend we ran a pilot study to determine an estimated effect size.  Suppose the data from the Etsy case study is what we collected.  Use the difference in sample means from the data as the effect size for an alternate hypothesis.  Compute this difference in sample means, and add another PDF plot showing the distribution under the alternate hypothesis."
   ]
  },
  {
   "cell_type": "markdown",
   "metadata": {},
   "source": [
    "5. What problem do you spot here with the plot from `3.`? Is increasing the\n",
    "sample size going to increase power?  If the effect size in the pilot is indeed\n",
    "representative of the ground truth, will the test ever be\n",
    "statistically significant? Explain your answer and suggest what the next steps\n",
    "should be."
   ]
  },
  {
   "cell_type": "markdown",
   "metadata": {},
   "source": [
    "### Part 3.2: Computing Minimum Sample Size\n",
    "\n",
    "In response to the learnings above, Etsy decides to run a one-tailed test for a *negative* effect to confirm if the proposed page is actually worse than the current.  \n",
    "\n",
    "```\n",
    "H0: \\pi_new - \\pi_old = -0.001\n",
    "Ha: \\pi_new - \\pi_old < -0.001\n",
    "```\n",
    "\n",
    "You will now need to calculate the amount of data to collect to ensure that the experiment reaches a given power."
   ]
  },
  {
   "cell_type": "markdown",
   "metadata": {},
   "source": [
    "1. Draw the usual diagram of null and alternate distributions with the rejection region for the test highlighted."
   ]
  },
  {
   "cell_type": "markdown",
   "metadata": {},
   "source": [
    "2.  Write a function `calc_min_sample_size` that computes the minimum sample size needed to achieve a given power\n",
    "\n",
    "```\n",
    "def calc_minimum_sample_size(control_data, treatment_data, alpha, effect_size, power):\n",
    "    \"\"\"Calculate the minimum sample size for a z-test needed to achieve a given power.\n",
    "    \n",
    "    Parameters\n",
    "    ----------\n",
    "    \n",
    "    control_data: array\n",
    "      One dimensional array containing data from control group.\n",
    "    \n",
    "    treatment_data: array\n",
    "      One dimensional array containing data from treatment group.\n",
    "    \n",
    "    alpha: float\n",
    "      Desired significance level.  Must be between zero and one.\n",
    "    \n",
    "    effect_size: float\n",
    "      Desired effect size to detect.\n",
    "    \n",
    "    power: float\n",
    "      Desired power.  Must be between zero and one.\n",
    "    \n",
    "    Returns\n",
    "    -------\n",
    "    \n",
    "    sample_size: int\n",
    "      Minimum sample size to achieve a the desired power.\n",
    "    \"\"\"\n",
    "```\n",
    "\n",
    "Use this function to calculate the minimum sample size to achieve a power of 0.8 at a significance threshold of 0.05."
   ]
  },
  {
   "cell_type": "code",
   "execution_count": null,
   "metadata": {},
   "outputs": [],
   "source": []
  }
 ],
 "metadata": {
  "kernelspec": {
   "display_name": "Python 3",
   "language": "python",
   "name": "python3"
  },
  "language_info": {
   "codemirror_mode": {
    "name": "ipython",
    "version": 3
   },
   "file_extension": ".py",
   "mimetype": "text/x-python",
   "name": "python",
   "nbconvert_exporter": "python",
   "pygments_lexer": "ipython3",
   "version": "3.7.6"
  }
 },
 "nbformat": 4,
 "nbformat_minor": 4
}
