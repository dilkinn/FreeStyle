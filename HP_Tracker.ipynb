{
 "cells": [
  {
   "cell_type": "code",
   "execution_count": 48,
   "metadata": {},
   "outputs": [],
   "source": [
    "import pandas as pd\n",
    "import numpy as np\n",
    "\n",
    "#Gotta Catch Them All\n",
    "\n",
    "df = pd.read_csv ('data/basePokemonCards.csv')\n",
    "\n",
    "#Data Cleaning - make column_names all lower-case.\n",
    "df.rename(columns={'Number': 'PokeDex#'}, inplace=True) #Change column_name 'Number' to PokeDex#.\n",
    "df.columns = df.columns.str.lower()\n",
    "#df.columns[4:-2:] - points to 'hp'"
   ]
  },
  {
   "cell_type": "code",
   "execution_count": 49,
   "metadata": {},
   "outputs": [
    {
     "data": {
      "text/html": [
       "<div>\n",
       "<style scoped>\n",
       "    .dataframe tbody tr th:only-of-type {\n",
       "        vertical-align: middle;\n",
       "    }\n",
       "\n",
       "    .dataframe tbody tr th {\n",
       "        vertical-align: top;\n",
       "    }\n",
       "\n",
       "    .dataframe thead th {\n",
       "        text-align: right;\n",
       "    }\n",
       "</style>\n",
       "<table border=\"1\" class=\"dataframe\">\n",
       "  <thead>\n",
       "    <tr style=\"text-align: right;\">\n",
       "      <th></th>\n",
       "      <th>name</th>\n",
       "      <th>set name</th>\n",
       "      <th>pokedex#</th>\n",
       "      <th>type</th>\n",
       "      <th>hp</th>\n",
       "      <th>stage</th>\n",
       "      <th>rarity</th>\n",
       "    </tr>\n",
       "  </thead>\n",
       "  <tbody>\n",
       "    <tr>\n",
       "      <th>0</th>\n",
       "      <td>Abra</td>\n",
       "      <td>Base</td>\n",
       "      <td>43</td>\n",
       "      <td>Psychic</td>\n",
       "      <td>30�</td>\n",
       "      <td>Basic</td>\n",
       "      <td>Common</td>\n",
       "    </tr>\n",
       "    <tr>\n",
       "      <th>1</th>\n",
       "      <td>Alakazam</td>\n",
       "      <td>Base</td>\n",
       "      <td>1</td>\n",
       "      <td>Psychic</td>\n",
       "      <td>80�</td>\n",
       "      <td>Stage 2</td>\n",
       "      <td>Rare</td>\n",
       "    </tr>\n",
       "    <tr>\n",
       "      <th>2</th>\n",
       "      <td>Arcanine</td>\n",
       "      <td>Base</td>\n",
       "      <td>23</td>\n",
       "      <td>Fire</td>\n",
       "      <td>100�</td>\n",
       "      <td>Stage 1</td>\n",
       "      <td>Uncommon</td>\n",
       "    </tr>\n",
       "    <tr>\n",
       "      <th>3</th>\n",
       "      <td>Beedrill</td>\n",
       "      <td>Base</td>\n",
       "      <td>17</td>\n",
       "      <td>Grass</td>\n",
       "      <td>80�</td>\n",
       "      <td>Stage 2</td>\n",
       "      <td>Rare</td>\n",
       "    </tr>\n",
       "    <tr>\n",
       "      <th>4</th>\n",
       "      <td>Blastoise</td>\n",
       "      <td>Base</td>\n",
       "      <td>2</td>\n",
       "      <td>Water</td>\n",
       "      <td>100�</td>\n",
       "      <td>Stage 2</td>\n",
       "      <td>Rare</td>\n",
       "    </tr>\n",
       "    <tr>\n",
       "      <th>...</th>\n",
       "      <td>...</td>\n",
       "      <td>...</td>\n",
       "      <td>...</td>\n",
       "      <td>...</td>\n",
       "      <td>...</td>\n",
       "      <td>...</td>\n",
       "      <td>...</td>\n",
       "    </tr>\n",
       "    <tr>\n",
       "      <th>64</th>\n",
       "      <td>Voltorb</td>\n",
       "      <td>Base</td>\n",
       "      <td>67</td>\n",
       "      <td>Lightning</td>\n",
       "      <td>40�</td>\n",
       "      <td>Basic</td>\n",
       "      <td>Common</td>\n",
       "    </tr>\n",
       "    <tr>\n",
       "      <th>65</th>\n",
       "      <td>Vulpix</td>\n",
       "      <td>Base</td>\n",
       "      <td>68</td>\n",
       "      <td>Fire</td>\n",
       "      <td>50�</td>\n",
       "      <td>Basic</td>\n",
       "      <td>Common</td>\n",
       "    </tr>\n",
       "    <tr>\n",
       "      <th>66</th>\n",
       "      <td>Wartortle</td>\n",
       "      <td>Base</td>\n",
       "      <td>42</td>\n",
       "      <td>Water</td>\n",
       "      <td>70�</td>\n",
       "      <td>Stage 1</td>\n",
       "      <td>Uncommon</td>\n",
       "    </tr>\n",
       "    <tr>\n",
       "      <th>67</th>\n",
       "      <td>Weedle</td>\n",
       "      <td>Base</td>\n",
       "      <td>69</td>\n",
       "      <td>Grass</td>\n",
       "      <td>40�</td>\n",
       "      <td>Basic</td>\n",
       "      <td>Common</td>\n",
       "    </tr>\n",
       "    <tr>\n",
       "      <th>68</th>\n",
       "      <td>Zapdos</td>\n",
       "      <td>Base</td>\n",
       "      <td>16</td>\n",
       "      <td>Lightning</td>\n",
       "      <td>90�</td>\n",
       "      <td>Basic</td>\n",
       "      <td>Rare</td>\n",
       "    </tr>\n",
       "  </tbody>\n",
       "</table>\n",
       "<p>69 rows × 7 columns</p>\n",
       "</div>"
      ],
      "text/plain": [
       "         name set name  pokedex#       type    hp    stage    rarity\n",
       "0        Abra     Base        43    Psychic   30�    Basic    Common\n",
       "1    Alakazam     Base         1    Psychic   80�  Stage 2      Rare\n",
       "2    Arcanine     Base        23       Fire  100�  Stage 1  Uncommon\n",
       "3    Beedrill     Base        17      Grass   80�  Stage 2      Rare\n",
       "4   Blastoise     Base         2      Water  100�  Stage 2      Rare\n",
       "..        ...      ...       ...        ...   ...      ...       ...\n",
       "64    Voltorb     Base        67  Lightning   40�    Basic    Common\n",
       "65     Vulpix     Base        68       Fire   50�    Basic    Common\n",
       "66  Wartortle     Base        42      Water   70�  Stage 1  Uncommon\n",
       "67     Weedle     Base        69      Grass   40�    Basic    Common\n",
       "68     Zapdos     Base        16  Lightning   90�    Basic      Rare\n",
       "\n",
       "[69 rows x 7 columns]"
      ]
     },
     "execution_count": 49,
     "metadata": {},
     "output_type": "execute_result"
    }
   ],
   "source": [
    "df"
   ]
  },
  {
   "cell_type": "code",
   "execution_count": 80,
   "metadata": {},
   "outputs": [
    {
     "name": "stdout",
     "output_type": "stream",
     "text": [
      "<class 'pandas.core.series.Series'>\n"
     ]
    }
   ],
   "source": [
    "print(type(df['name']))"
   ]
  },
  {
   "cell_type": "code",
   "execution_count": 150,
   "metadata": {},
   "outputs": [],
   "source": [
    "class Pokemon_Features():\n",
    "    '''Class has features of pokemon'''\n",
    "    def __init__(self,card):\n",
    "        self.name = card['name']\n",
    "        self.podedex_number = card['pokedex#']\n",
    "        self.type1 = card['type']\n",
    "        self.hit_points = card['hp']\n",
    "    def hit_point_tracker(self):\n",
    "        identify_pokemon = (input(\"Enter name of Pokemon: \").capitalize())\n",
    "        for i in range(69):\n",
    "            if identify_pokemon == df['name'][i]:\n",
    "                print('Pokemon chosen was ' + identify_pokemon)\n",
    "                return 'Pokemon hp is ' + self.hit_points[i]\n",
    "            #elif identify_pokemon != df['name'][i]: '''Couldn\"t get else or elif to work correctly.'''\n",
    "                #print('Try Again! Loser.')"
   ]
  },
  {
   "cell_type": "code",
   "execution_count": 151,
   "metadata": {},
   "outputs": [],
   "source": [
    "Cards = Pokemon_Features(df[:])"
   ]
  },
  {
   "cell_type": "code",
   "execution_count": 152,
   "metadata": {},
   "outputs": [
    {
     "name": "stdout",
     "output_type": "stream",
     "text": [
      "Enter name of Pokemon: Vulpix\n",
      "Pokemon chosen was Vulpix\n"
     ]
    },
    {
     "data": {
      "text/plain": [
       "'Pokemon hp is 50�'"
      ]
     },
     "execution_count": 152,
     "metadata": {},
     "output_type": "execute_result"
    }
   ],
   "source": [
    "Cards.hit_point_tracker()"
   ]
  },
  {
   "cell_type": "code",
   "execution_count": null,
   "metadata": {},
   "outputs": [],
   "source": []
  }
 ],
 "metadata": {
  "kernelspec": {
   "display_name": "Python 3",
   "language": "python",
   "name": "python3"
  },
  "language_info": {
   "codemirror_mode": {
    "name": "ipython",
    "version": 3
   },
   "file_extension": ".py",
   "mimetype": "text/x-python",
   "name": "python",
   "nbconvert_exporter": "python",
   "pygments_lexer": "ipython3",
   "version": "3.7.6"
  }
 },
 "nbformat": 4,
 "nbformat_minor": 4
}
